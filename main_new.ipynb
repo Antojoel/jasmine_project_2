{
 "cells": [
  {
   "cell_type": "code",
   "execution_count": 1,
   "metadata": {},
   "outputs": [],
   "source": [
    "import base64\n",
    "import json\n",
    "import re\n",
    "import numpy as np\n",
    "from typing import Dict, TypedDict, Annotated, Sequence, List, Union, Any, Literal, cast\n",
    "from enum import Enum\n",
    "from datetime import datetime\n",
    "from langchain.prompts import PromptTemplate\n",
    "from langchain_openai import ChatOpenAI, OpenAIEmbeddings\n",
    "from langchain_core.output_parsers import JsonOutputParser\n",
    "from pydantic.v1 import BaseModel, Field\n",
    "from langchain_core.messages import BaseMessage, HumanMessage, AIMessage\n",
    "from langgraph.graph import StateGraph, END\n",
    "from langgraph.prebuilt import ToolNode\n",
    "from langchain_core.tools import tool\n",
    "from langchain_core.vectorstores import VectorStore\n",
    "from langchain_community.vectorstores import FAISS\n",
    "from langchain_core.documents import Document\n",
    "import os\n",
    "import time\n",
    "import sys\n",
    "import web_interface"
   ]
  },
  {
   "cell_type": "code",
   "execution_count": null,
   "metadata": {},
   "outputs": [],
   "source": [
    "os.environ[\"OPENAI_API_KEY\"] = \"key here\""
   ]
  },
  {
   "cell_type": "code",
   "execution_count": null,
   "metadata": {},
   "outputs": [],
   "source": [
    "\n",
    "# Models\n",
    "gpt4_vision = ChatOpenAI(model=\"gpt-4o-mini\", temperature=0, max_tokens=4096)\n",
    "gpt4 = ChatOpenAI(model=\"gpt-4o-mini\", temperature=0.2, max_tokens=2048)\n",
    "# Embeddings model for semantic search\n",
    "embeddings_model = OpenAIEmbeddings(model=\"text-embedding-3-small\")\n"
   ]
  }
 ],
 "metadata": {
  "kernelspec": {
   "display_name": "env",
   "language": "python",
   "name": "python3"
  },
  "language_info": {
   "codemirror_mode": {
    "name": "ipython",
    "version": 3
   },
   "file_extension": ".py",
   "mimetype": "text/x-python",
   "name": "python",
   "nbconvert_exporter": "python",
   "pygments_lexer": "ipython3",
   "version": "3.10.12"
  }
 },
 "nbformat": 4,
 "nbformat_minor": 2
}
